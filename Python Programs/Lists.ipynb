{
 "cells": [
  {
   "cell_type": "code",
   "execution_count": 1,
   "id": "97dd690a",
   "metadata": {},
   "outputs": [
    {
     "name": "stdout",
     "output_type": "stream",
     "text": [
      "The Average of Numbers in A is : 6.0\n"
     ]
    }
   ],
   "source": [
    "#Calculate the Average of Numbers in a Given List\n",
    "A=[2,4,6,8,10]\n",
    "Avg=sum(A)/len(A)\n",
    "print(\"The Average of Numbers in A is :\", Avg)"
   ]
  },
  {
   "cell_type": "code",
   "execution_count": 2,
   "id": "e73e8e52",
   "metadata": {},
   "outputs": [
    {
     "name": "stdout",
     "output_type": "stream",
     "text": [
      "The Largest number in B is : 67\n"
     ]
    }
   ],
   "source": [
    "#Find the largest number in a list\n",
    "B=[12,45,23,67,8,55]\n",
    "print(\"The Largest number in B is :\", max(B))"
   ]
  },
  {
   "cell_type": "code",
   "execution_count": 3,
   "id": "b7175087",
   "metadata": {},
   "outputs": [
    {
     "name": "stdout",
     "output_type": "stream",
     "text": [
      "The Largest number in B is : 67\n"
     ]
    }
   ],
   "source": [
    "#Find the largest number in a list\n",
    "#Method-2\n",
    "B=[12,45,23,67,8,55]\n",
    "C=sorted(B)\n",
    "print(\"The Largest number in B is :\",C[-1])"
   ]
  },
  {
   "cell_type": "code",
   "execution_count": 4,
   "id": "233565b0",
   "metadata": {},
   "outputs": [
    {
     "name": "stdout",
     "output_type": "stream",
     "text": [
      "The Second Largest number in B is : 55\n"
     ]
    }
   ],
   "source": [
    "#Find the second largest number in a list\n",
    "B=[12,45,23,67,8,55]\n",
    "C=sorted(B)\n",
    "print(\"The Second Largest number in B is :\",C[-2])"
   ]
  },
  {
   "cell_type": "code",
   "execution_count": 5,
   "id": "558a4197",
   "metadata": {},
   "outputs": [
    {
     "name": "stdout",
     "output_type": "stream",
     "text": [
      "Even Elements List : [2, 4, 6, 8, 10]\n",
      "Odd Eleements List : [1, 3, 5, 7, 9]\n"
     ]
    }
   ],
   "source": [
    "#Put the even and odd elements in a list into two different lists\n",
    "D=[1,2,3,4,5,6,7,8,9,10]\n",
    "E=[]\n",
    "F=[]\n",
    "for i in D:\n",
    "    if (i%2==0):\n",
    "        E.append(i)\n",
    "    else:\n",
    "        F.append(i)\n",
    "print(\"Even Elements List :\",E)\n",
    "print(\"Odd Eleements List :\",F)"
   ]
  },
  {
   "cell_type": "code",
   "execution_count": 6,
   "id": "0f8d1bf7",
   "metadata": {},
   "outputs": [
    {
     "name": "stdout",
     "output_type": "stream",
     "text": [
      "Merged list after sorting : [1, 2, 3, 4, 5, 6, 7, 8, 9, 10]\n"
     ]
    }
   ],
   "source": [
    "#Merge two lists and sort it\n",
    "list1=[1,3,5,7,9]\n",
    "list2=[2,4,6,8,10]\n",
    "list3=list1+list2\n",
    "print(\"Merged list after sorting :\", sorted(list3))"
   ]
  },
  {
   "cell_type": "code",
   "execution_count": null,
   "id": "6b104ce0",
   "metadata": {},
   "outputs": [],
   "source": [
    "#Sort the list according to the second element in the sublist\n",
    "A=[[\"Shimlan\",116],[\"Yash\",007],[\"Abhisheik\",225],[\"Yaswanth\",1]]\n",
    "for i in A:\n",
    "    if (A[i][1])"
   ]
  },
  {
   "cell_type": "code",
   "execution_count": 21,
   "id": "168040e5",
   "metadata": {},
   "outputs": [
    {
     "name": "stdout",
     "output_type": "stream",
     "text": [
      "Union of list1 and list2 : [1, 2, 3, 4, 5, 6, 7, 8, 9, 10, 12, 14, 16, 18, 20]\n"
     ]
    }
   ],
   "source": [
    "#Find the union of two lists\n",
    "list1=[1,2,3,4,5,6,7,8,9,10]\n",
    "list2=[2,4,6,8,10,12,14,16,18,20]\n",
    "a=set(list1)\n",
    "b=set(list2)\n",
    "c=a.union(b)\n",
    "list3=list(c)\n",
    "print(\"Union of list1 and list2 :\",list3)"
   ]
  },
  {
   "cell_type": "code",
   "execution_count": 11,
   "id": "0afc7ad2",
   "metadata": {},
   "outputs": [
    {
     "name": "stdout",
     "output_type": "stream",
     "text": [
      "Intersection of list1 and list2 : [2, 4, 6, 8, 10]\n"
     ]
    }
   ],
   "source": [
    "#Find the intersection of two lists\n",
    "list1=[1,2,3,4,5,6,7,8,9,10]\n",
    "list2=[2,4,6,8,10,12,14,16,18,20]\n",
    "list3=[x for x in list1 if x in list2]\n",
    "print(\"Intersection of list1 and list2 :\",list3)"
   ]
  },
  {
   "cell_type": "code",
   "execution_count": 22,
   "id": "be5fbe91",
   "metadata": {},
   "outputs": [
    {
     "name": "stdout",
     "output_type": "stream",
     "text": [
      "[3, 2, 1]\n"
     ]
    }
   ],
   "source": [
    "#Takes a list and swaps the first and last value of the list\n",
    "A=[1,2,3]\n",
    "B=A[::-1]\n",
    "print(B)"
   ]
  },
  {
   "cell_type": "code",
   "execution_count": 28,
   "id": "402e77e6",
   "metadata": {},
   "outputs": [
    {
     "name": "stdout",
     "output_type": "stream",
     "text": [
      "[89, 56, 34, 27, 23]\n"
     ]
    }
   ],
   "source": [
    "#Takes a list and swaps the first and last value of the list\n",
    "#Method-2\n",
    "A=[23,56,34,27,89]\n",
    "A[0],A[-1]=A[-1],A[0]\n",
    "print(A)"
   ]
  },
  {
   "cell_type": "code",
   "execution_count": 29,
   "id": "34d00203",
   "metadata": {},
   "outputs": [
    {
     "name": "stdout",
     "output_type": "stream",
     "text": [
      "[1, 2, 3, 4, 4, 5, 6, 7, 7, 8, 9, 9, 10]\n",
      "List after removing duplicates : [1, 2, 3, 4, 5, 6, 7, 8, 9, 10]\n"
     ]
    }
   ],
   "source": [
    "#Remove the duplicate items from a list\n",
    "list1=[1,2,3,4,4,5,6,7,7,8,9,9,10]\n",
    "list2=set(list1)\n",
    "print(list1)\n",
    "print(\"List after removing duplicates :\",list(list2))"
   ]
  },
  {
   "cell_type": "code",
   "execution_count": 34,
   "id": "4a1962d6",
   "metadata": {},
   "outputs": [
    {
     "name": "stdout",
     "output_type": "stream",
     "text": [
      "The longest word in A : Shimlan Mirza\n",
      "The length of longest word in A : 13\n"
     ]
    }
   ],
   "source": [
    "#Read a list of words and return the length of the longest one\n",
    "A=[\"Yaswanth\",\"Shimlan\",\"Abhishek\",\"Shimlan Mirza\"]\n",
    "B=len(A[0])\n",
    "c=[]\n",
    "for i in A:\n",
    "    if(len(i)>B):\n",
    "        C=i\n",
    "print(\"The longest word in A :\",C)\n",
    "print(\"The length of longest word in A :\",len(C))"
   ]
  },
  {
   "cell_type": "code",
   "execution_count": null,
   "id": "96c9a4bf",
   "metadata": {},
   "outputs": [],
   "source": []
  }
 ],
 "metadata": {
  "kernelspec": {
   "display_name": "Python 3 (ipykernel)",
   "language": "python",
   "name": "python3"
  },
  "language_info": {
   "codemirror_mode": {
    "name": "ipython",
    "version": 3
   },
   "file_extension": ".py",
   "mimetype": "text/x-python",
   "name": "python",
   "nbconvert_exporter": "python",
   "pygments_lexer": "ipython3",
   "version": "3.10.9"
  }
 },
 "nbformat": 4,
 "nbformat_minor": 5
}
