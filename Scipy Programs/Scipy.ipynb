{
 "cells": [
  {
   "cell_type": "markdown",
   "id": "3a49aeae",
   "metadata": {},
   "source": [
    "# Introduction to Scipy"
   ]
  },
  {
   "cell_type": "code",
   "execution_count": 1,
   "id": "abdb8bbf",
   "metadata": {},
   "outputs": [],
   "source": [
    "import scipy as sp "
   ]
  },
  {
   "cell_type": "code",
   "execution_count": 2,
   "id": "9a843ca2",
   "metadata": {},
   "outputs": [
    {
     "name": "stdout",
     "output_type": "stream",
     "text": [
      "[0.29236585 0.68769716 0.85839553 0.28893785 0.05809276 0.53001054\n",
      " 0.6040244  0.73224212 0.1157693  0.3648068 ]\n",
      "10\n"
     ]
    },
    {
     "name": "stderr",
     "output_type": "stream",
     "text": [
      "C:\\Users\\Dell\\AppData\\Local\\Temp\\ipykernel_4244\\1879244938.py:1: DeprecationWarning: scipy.rand is deprecated and will be removed in SciPy 2.0.0, use numpy.random.rand instead\n",
      "  s=sp.rand(10)\n"
     ]
    }
   ],
   "source": [
    "s=sp.rand(10)\n",
    "print(s)\n",
    "print(len(s))"
   ]
  },
  {
   "cell_type": "code",
   "execution_count": 3,
   "id": "b35f05f7",
   "metadata": {},
   "outputs": [
    {
     "name": "stdout",
     "output_type": "stream",
     "text": [
      "Mean : 0.4532342312836654\n"
     ]
    }
   ],
   "source": [
    "print(\"Mean :\",s.mean())"
   ]
  },
  {
   "cell_type": "code",
   "execution_count": 4,
   "id": "18bd1103",
   "metadata": {},
   "outputs": [
    {
     "name": "stdout",
     "output_type": "stream",
     "text": [
      "Mean :  0.45\n"
     ]
    }
   ],
   "source": [
    "print(\"Mean : {0:5.2f}\".format(s.mean()))"
   ]
  },
  {
   "cell_type": "code",
   "execution_count": 5,
   "id": "3c9102ad",
   "metadata": {},
   "outputs": [
    {
     "name": "stdout",
     "output_type": "stream",
     "text": [
      "Min : 0.05809275527057556\n",
      "Minimum  :   0.06\n"
     ]
    }
   ],
   "source": [
    "print(\"Min :\",s.min())\n",
    "print(\"Minimum  : {0:6.2f}\".format(s.min()))"
   ]
  },
  {
   "cell_type": "code",
   "execution_count": 6,
   "id": "720c05c3",
   "metadata": {},
   "outputs": [
    {
     "name": "stdout",
     "output_type": "stream",
     "text": [
      "Max : 0.8583955275400647\n",
      "Maximum :      0.9\n"
     ]
    }
   ],
   "source": [
    "print(\"Max :\",s.max())\n",
    "print(\"Maximum : {0:8.1f}\".format(s.max()))"
   ]
  },
  {
   "cell_type": "markdown",
   "id": "3daea7ce",
   "metadata": {},
   "source": [
    "# Special Functions - Exponential"
   ]
  },
  {
   "cell_type": "code",
   "execution_count": 1,
   "id": "e864fb65",
   "metadata": {},
   "outputs": [],
   "source": [
    "import scipy as sp\n",
    "from scipy import special as spl #import scipy.special as spl (Here special is the submodule of scipy)"
   ]
  },
  {
   "cell_type": "code",
   "execution_count": 2,
   "id": "ac283241",
   "metadata": {},
   "outputs": [
    {
     "name": "stdout",
     "output_type": "stream",
     "text": [
      "10000.0\n"
     ]
    }
   ],
   "source": [
    "x=spl.exp10(4) \n",
    "print(x)"
   ]
  },
  {
   "cell_type": "code",
   "execution_count": 3,
   "id": "31107ac7",
   "metadata": {},
   "outputs": [
    {
     "name": "stdout",
     "output_type": "stream",
     "text": [
      "[  100.  1000. 10000.]\n"
     ]
    }
   ],
   "source": [
    "y=spl.exp10([2,3,4])\n",
    "print(y)"
   ]
  },
  {
   "cell_type": "code",
   "execution_count": 4,
   "id": "496a0523",
   "metadata": {},
   "outputs": [
    {
     "name": "stdout",
     "output_type": "stream",
     "text": [
      "8.0\n"
     ]
    }
   ],
   "source": [
    "z=spl.exp2(3)\n",
    "print(z)"
   ]
  },
  {
   "cell_type": "code",
   "execution_count": 5,
   "id": "4d798e94",
   "metadata": {},
   "outputs": [
    {
     "name": "stdout",
     "output_type": "stream",
     "text": [
      "[  4.  16.  64. 256.]\n"
     ]
    }
   ],
   "source": [
    "Z=spl.exp2([2,4,6,8])\n",
    "print(Z)"
   ]
  },
  {
   "cell_type": "markdown",
   "id": "28137395",
   "metadata": {},
   "source": [
    "# Special Functions - Trigonometric Functions"
   ]
  },
  {
   "cell_type": "code",
   "execution_count": 1,
   "id": "ae9fa7bf",
   "metadata": {},
   "outputs": [],
   "source": [
    "import scipy as sp\n",
    "from scipy import special as spl #import scipy.special as spl"
   ]
  },
  {
   "cell_type": "code",
   "execution_count": 2,
   "id": "e3935efb",
   "metadata": {},
   "outputs": [
    {
     "name": "stdout",
     "output_type": "stream",
     "text": [
      "1.0\n"
     ]
    }
   ],
   "source": [
    "a=spl.sindg(90) #In degrees \n",
    "print(a) "
   ]
  },
  {
   "cell_type": "code",
   "execution_count": 3,
   "id": "dc0a15ff",
   "metadata": {},
   "outputs": [
    {
     "name": "stdout",
     "output_type": "stream",
     "text": [
      "0.49999999999999994\n"
     ]
    }
   ],
   "source": [
    "a=spl.cosdg(60)\n",
    "print(a)"
   ]
  },
  {
   "cell_type": "code",
   "execution_count": 4,
   "id": "8d64a72d",
   "metadata": {},
   "outputs": [
    {
     "name": "stdout",
     "output_type": "stream",
     "text": [
      "0.5\n"
     ]
    }
   ],
   "source": [
    "a=round(spl.cosdg(60),1) #We are rounding the output since, cos60=1/2=0.5\n",
    "print(a)"
   ]
  },
  {
   "cell_type": "code",
   "execution_count": 5,
   "id": "74d7c108",
   "metadata": {},
   "outputs": [
    {
     "name": "stdout",
     "output_type": "stream",
     "text": [
      "1.0\n"
     ]
    }
   ],
   "source": [
    "a=spl.tandg(45)\n",
    "print(a)"
   ]
  },
  {
   "cell_type": "markdown",
   "id": "2091b4c2",
   "metadata": {},
   "source": [
    "# Integration - General Integration and Double Integration"
   ]
  },
  {
   "cell_type": "code",
   "execution_count": 1,
   "id": "2e7ee0ea",
   "metadata": {},
   "outputs": [],
   "source": [
    "import scipy as sp\n",
    "from scipy import integrate #import scipy.integrate (Here integrate is the submodule of scipy)"
   ]
  },
  {
   "cell_type": "code",
   "execution_count": 2,
   "id": "26eff25d",
   "metadata": {},
   "outputs": [
    {
     "name": "stdout",
     "output_type": "stream",
     "text": [
      "(3.3333333333333335, 3.700743415417189e-14)\n"
     ]
    }
   ],
   "source": [
    "a=lambda x: ((x**2)-(4*x)+5)\n",
    "i=integrate.quad(a,0,1)\n",
    "print(i)"
   ]
  },
  {
   "cell_type": "code",
   "execution_count": 3,
   "id": "70edb861",
   "metadata": {},
   "outputs": [
    {
     "name": "stdout",
     "output_type": "stream",
     "text": [
      "(0.0, 8.791154598512528e-14)\n"
     ]
    }
   ],
   "source": [
    "b=lambda x,y:x*y**3 #Double Integration\n",
    "c=-1\n",
    "d=1\n",
    "i=integrate.dblquad(b,0,2,c,d)\n",
    "print(i)"
   ]
  },
  {
   "cell_type": "code",
   "execution_count": 4,
   "id": "9445ce09",
   "metadata": {},
   "outputs": [
    {
     "name": "stdout",
     "output_type": "stream",
     "text": [
      "(24.0, 2.6645352591003757e-13)\n"
     ]
    }
   ],
   "source": [
    "e=lambda x,y,z:x**2+y**2+z**2+1 #Triple Integration\n",
    "i=integrate.tplquad(e,1,3,2,3,0,1)\n",
    "print(i)"
   ]
  },
  {
   "cell_type": "markdown",
   "id": "237e4801",
   "metadata": {},
   "source": [
    "# Linear Algebraic Equations"
   ]
  },
  {
   "cell_type": "code",
   "execution_count": 1,
   "id": "53767318",
   "metadata": {},
   "outputs": [],
   "source": [
    "import numpy as np\n",
    "import scipy as sp\n",
    "from scipy import linalg"
   ]
  },
  {
   "cell_type": "code",
   "execution_count": 2,
   "id": "0c0fb942",
   "metadata": {},
   "outputs": [
    {
     "name": "stdout",
     "output_type": "stream",
     "text": [
      "[[ 2.]\n",
      " [-2.]]\n"
     ]
    }
   ],
   "source": [
    "a=np.array([[3,2],[1,-1]]) #Linear algebraic Functions 3x+2y=2 and x-y=4 represented in matrix form (2x2)\n",
    "b=np.array([[2],[4]])\n",
    "x=linalg.solve(a,b)\n",
    "print(x)"
   ]
  },
  {
   "cell_type": "code",
   "execution_count": 3,
   "id": "b8544b17",
   "metadata": {},
   "outputs": [
    {
     "name": "stdout",
     "output_type": "stream",
     "text": [
      "[[3.85714286]\n",
      " [7.        ]\n",
      " [4.71428571]]\n"
     ]
    }
   ],
   "source": [
    "c=np.array([[3,2,-5],[1,-2,3],[4,-1,-2]]) #Linear algebraic Functions 3x+2y-5z=2, x-2y+3z=4 and 4x-y-2z=-1 represented in matrix form (3x3) \n",
    "d=np.array([[2],[4],[-1]])\n",
    "x=linalg.solve(c,d)\n",
    "print(x)"
   ]
  },
  {
   "cell_type": "markdown",
   "id": "c03775ee",
   "metadata": {},
   "source": [
    "# If it is not a square matrix (Least Squares)"
   ]
  },
  {
   "cell_type": "code",
   "execution_count": 4,
   "id": "9e5a2d1a",
   "metadata": {},
   "outputs": [
    {
     "name": "stdout",
     "output_type": "stream",
     "text": [
      "(array([[ 1.66666667],\n",
      "       [-0.66666667],\n",
      "       [ 0.33333333]]), array([], dtype=float64), 2, array([6.78232998, 2.44948974]))\n"
     ]
    }
   ],
   "source": [
    "a=np.array([[3,2,-5],[1,-2,3]]) #Linear Least Squares 3x+2y-5z=2, x-2y+3z=4 represented in matrix form (2x3)\n",
    "b=np.array([[2],[4]])\n",
    "x=linalg.lstsq(a,b) \n",
    "print(x)"
   ]
  },
  {
   "cell_type": "markdown",
   "id": "002cd23a",
   "metadata": {},
   "source": [
    "Whenever we use lstsq it gives four values in the output which are x(consists of x,y,z values), resident ID, rank and sigma, but we need only the values of x,y&z. So, we can store the four values in four variables and print only \n",
    "x."
   ]
  },
  {
   "cell_type": "code",
   "execution_count": 5,
   "id": "552236d6",
   "metadata": {},
   "outputs": [
    {
     "name": "stdout",
     "output_type": "stream",
     "text": [
      "[[ 1.66666667]\n",
      " [-0.66666667]\n",
      " [ 0.33333333]]\n"
     ]
    }
   ],
   "source": [
    "a=np.array([[3,2,-5],[1,-2,3]])\n",
    "b=np.array([[2],[4]])\n",
    "x,resid,rank,sigma=linalg.lstsq(a,b) \n",
    "print(x)"
   ]
  },
  {
   "cell_type": "code",
   "execution_count": null,
   "id": "0147036c",
   "metadata": {},
   "outputs": [],
   "source": []
  }
 ],
 "metadata": {
  "kernelspec": {
   "display_name": "Python 3 (ipykernel)",
   "language": "python",
   "name": "python3"
  },
  "language_info": {
   "codemirror_mode": {
    "name": "ipython",
    "version": 3
   },
   "file_extension": ".py",
   "mimetype": "text/x-python",
   "name": "python",
   "nbconvert_exporter": "python",
   "pygments_lexer": "ipython3",
   "version": "3.10.9"
  }
 },
 "nbformat": 4,
 "nbformat_minor": 5
}
