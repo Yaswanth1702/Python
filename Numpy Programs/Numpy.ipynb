{
 "cells": [
  {
   "cell_type": "markdown",
   "id": "29f55be1",
   "metadata": {},
   "source": [
    "\n",
    "# Introduction to Numpy "
   ]
  },
  {
   "cell_type": "code",
   "execution_count": 1,
   "id": "c9c22fa2",
   "metadata": {},
   "outputs": [],
   "source": [
    "import numpy as np #Importing numpy as np alias"
   ]
  },
  {
   "cell_type": "code",
   "execution_count": 2,
   "id": "b155da85",
   "metadata": {},
   "outputs": [
    {
     "name": "stdout",
     "output_type": "stream",
     "text": [
      "1.23.5\n"
     ]
    }
   ],
   "source": [
    "print(np.__version__) #For checking Numpy version"
   ]
  },
  {
   "cell_type": "code",
   "execution_count": 3,
   "id": "2f3548f1",
   "metadata": {},
   "outputs": [
    {
     "name": "stdout",
     "output_type": "stream",
     "text": [
      "[15 16 17]\n",
      "<class 'numpy.ndarray'>\n"
     ]
    }
   ],
   "source": [
    "arr=np.array([15,16,17])\n",
    "print(arr)\n",
    "print(type(arr))"
   ]
  },
  {
   "cell_type": "code",
   "execution_count": 4,
   "id": "95173b89",
   "metadata": {},
   "outputs": [
    {
     "name": "stdout",
     "output_type": "stream",
     "text": [
      "['116' 'Yash' '3.142']\n",
      "<class 'numpy.ndarray'>\n"
     ]
    }
   ],
   "source": [
    "ar1=np.array([116,\"Yash\",3.142])\n",
    "print(ar1)\n",
    "print(type(ar1))"
   ]
  },
  {
   "cell_type": "markdown",
   "id": "d59b50a2",
   "metadata": {},
   "source": [
    "# Dimensions in Arrays"
   ]
  },
  {
   "cell_type": "markdown",
   "id": "b7d75ff6",
   "metadata": {},
   "source": [
    "A dimension in arrays is one level of array depth (nested arrays).\n",
    "Nested arrays means arrays that have arrays as their elements."
   ]
  },
  {
   "cell_type": "code",
   "execution_count": 5,
   "id": "b9771e05",
   "metadata": {},
   "outputs": [],
   "source": [
    "import numpy as np"
   ]
  },
  {
   "cell_type": "code",
   "execution_count": 6,
   "id": "41ec3242",
   "metadata": {},
   "outputs": [
    {
     "name": "stdout",
     "output_type": "stream",
     "text": [
      "20\n"
     ]
    }
   ],
   "source": [
    "a=np.array(20) #Will create 0-Dimensional Array\n",
    "print(a) "
   ]
  },
  {
   "cell_type": "code",
   "execution_count": 7,
   "id": "90e4355a",
   "metadata": {},
   "outputs": [
    {
     "name": "stdout",
     "output_type": "stream",
     "text": [
      "[1 2 3]\n"
     ]
    }
   ],
   "source": [
    "print(np.array((1,2,3))) #Will create one dimensional array where this array contains 0-dimensional arrays as its elements"
   ]
  },
  {
   "cell_type": "code",
   "execution_count": 8,
   "id": "30103851",
   "metadata": {},
   "outputs": [
    {
     "name": "stdout",
     "output_type": "stream",
     "text": [
      "[[1 2 3]\n",
      " [4 5 6]\n",
      " [7 8 9]]\n"
     ]
    }
   ],
   "source": [
    "print(np.array([(1,2,3),(4,5,6),(7,8,9)])) #Will create two dimensional array where this array contains one dimensional arrays as its elements"
   ]
  },
  {
   "cell_type": "code",
   "execution_count": 9,
   "id": "25f95fb7",
   "metadata": {},
   "outputs": [
    {
     "name": "stdout",
     "output_type": "stream",
     "text": [
      "[[[ 1  2  3]\n",
      "  [ 4  5  6]\n",
      "  [ 7  8  9]]\n",
      "\n",
      " [[11 12 13]\n",
      "  [14 15 16]\n",
      "  [17 18 19]]]\n"
     ]
    }
   ],
   "source": [
    "print(np.array([[(1,2,3),(4,5,6),(7,8,9)],[(11,12,13),(14,15,16),(17,18,19)]])) #Will create three dimensional array where this array contains two dimensional arrays as its elements"
   ]
  },
  {
   "cell_type": "code",
   "execution_count": 10,
   "id": "cb29cbd7",
   "metadata": {},
   "outputs": [
    {
     "name": "stdout",
     "output_type": "stream",
     "text": [
      "[0. 0. 0. 0. 0.]\n"
     ]
    }
   ],
   "source": [
    "print(np.zeros(5)) #Will create 1D array of zeros"
   ]
  },
  {
   "cell_type": "code",
   "execution_count": 11,
   "id": "d10d9882",
   "metadata": {},
   "outputs": [
    {
     "name": "stdout",
     "output_type": "stream",
     "text": [
      "[[0. 0. 0. 0.]\n",
      " [0. 0. 0. 0.]\n",
      " [0. 0. 0. 0.]]\n"
     ]
    }
   ],
   "source": [
    "print(np.zeros((3,4)))"
   ]
  },
  {
   "cell_type": "code",
   "execution_count": 12,
   "id": "b834358f",
   "metadata": {},
   "outputs": [
    {
     "name": "stdout",
     "output_type": "stream",
     "text": [
      "[[0 0 0 0]\n",
      " [0 0 0 0]\n",
      " [0 0 0 0]]\n"
     ]
    }
   ],
   "source": [
    "print(np.zeros((3,4),dtype=int)) #Will create 3x3 array with values of 8 "
   ]
  },
  {
   "cell_type": "code",
   "execution_count": 13,
   "id": "eb7e9a60",
   "metadata": {},
   "outputs": [
    {
     "name": "stdout",
     "output_type": "stream",
     "text": [
      "[[1. 1. 1. 1.]\n",
      " [1. 1. 1. 1.]\n",
      " [1. 1. 1. 1.]]\n"
     ]
    }
   ],
   "source": [
    "print(np.ones((3,4))) #Will print 3x4 ones in the matrix"
   ]
  },
  {
   "cell_type": "code",
   "execution_count": 14,
   "id": "8bf8292d",
   "metadata": {},
   "outputs": [
    {
     "name": "stdout",
     "output_type": "stream",
     "text": [
      "[[5 5 5 5]\n",
      " [5 5 5 5]\n",
      " [5 5 5 5]]\n"
     ]
    }
   ],
   "source": [
    "print(np.full((3,4),(5))) #Will create 3x3 array with values of 8"
   ]
  },
  {
   "cell_type": "code",
   "execution_count": 15,
   "id": "d68b0c8c",
   "metadata": {},
   "outputs": [
    {
     "name": "stdout",
     "output_type": "stream",
     "text": [
      "[[1. 0. 0. 0.]\n",
      " [0. 1. 0. 0.]\n",
      " [0. 0. 1. 0.]\n",
      " [0. 0. 0. 1.]]\n"
     ]
    }
   ],
   "source": [
    "print(np.eye(4)) #Will create 3x3 with 0 and 1 diagnol identity matrix"
   ]
  },
  {
   "cell_type": "code",
   "execution_count": 16,
   "id": "1bcded5e",
   "metadata": {},
   "outputs": [
    {
     "name": "stdout",
     "output_type": "stream",
     "text": [
      "[ 5. 10. 15. 20. 25. 30. 35. 40. 45. 50.]\n"
     ]
    }
   ],
   "source": [
    "print(np.linspace(5,50,10)) #Will create 5 evenly divides values from 0 to 50(Float)"
   ]
  },
  {
   "cell_type": "code",
   "execution_count": 17,
   "id": "107a896e",
   "metadata": {},
   "outputs": [
    {
     "name": "stdout",
     "output_type": "stream",
     "text": [
      "[10 15 20 25]\n"
     ]
    }
   ],
   "source": [
    "print(np.arange(10,30,5)) #(int) create an array of values from o to less than 10 with step of 5"
   ]
  },
  {
   "cell_type": "markdown",
   "id": "43b9c1ad",
   "metadata": {},
   "source": [
    "# Check Number of Dimensions and Shape of arrays"
   ]
  },
  {
   "cell_type": "code",
   "execution_count": 1,
   "id": "5875b2df",
   "metadata": {},
   "outputs": [],
   "source": [
    "import numpy as np"
   ]
  },
  {
   "cell_type": "code",
   "execution_count": 2,
   "id": "3dda7486",
   "metadata": {},
   "outputs": [
    {
     "name": "stdout",
     "output_type": "stream",
     "text": [
      "20\n",
      "0\n",
      "()\n"
     ]
    }
   ],
   "source": [
    "a=np.array(20) #0-D array\n",
    "print(a)\n",
    "print(a.ndim) #ndim is an attribute that tells us how many dimensions the array have\n",
    "print(a.shape) "
   ]
  },
  {
   "cell_type": "code",
   "execution_count": 3,
   "id": "38a83127",
   "metadata": {},
   "outputs": [
    {
     "name": "stdout",
     "output_type": "stream",
     "text": [
      "[1 2 3]\n",
      "1\n",
      "(3,)\n"
     ]
    }
   ],
   "source": [
    "print(np.array((1,2,3))) #1-D array\n",
    "print(np.array((1,2,3)).ndim)\n",
    "print(np.array((1,2,3)).shape)"
   ]
  },
  {
   "cell_type": "code",
   "execution_count": 4,
   "id": "b3588a80",
   "metadata": {},
   "outputs": [
    {
     "name": "stdout",
     "output_type": "stream",
     "text": [
      "[[1 2 3]\n",
      " [4 5 6]\n",
      " [7 8 9]]\n",
      "2\n",
      "(3, 3)\n"
     ]
    }
   ],
   "source": [
    "print(np.array([(1,2,3),(4,5,6),(7,8,9)])) #2-D array\n",
    "print(np.array([(1,2,3),(4,5,6),(7,8,9)]).ndim)\n",
    "print(np.array([(1,2,3),(4,5,6),(7,8,9)]).shape)"
   ]
  },
  {
   "cell_type": "code",
   "execution_count": 5,
   "id": "830a5f16",
   "metadata": {},
   "outputs": [
    {
     "name": "stdout",
     "output_type": "stream",
     "text": [
      "[[[ 1  2  3]\n",
      "  [ 4  5  6]\n",
      "  [ 7  8  9]]\n",
      "\n",
      " [[11 12 13]\n",
      "  [14 15 16]\n",
      "  [17 18 19]]]\n",
      "3\n",
      "(2, 3, 3)\n"
     ]
    }
   ],
   "source": [
    "print(np.array([[(1,2,3),(4,5,6),(7,8,9)],[(11,12,13),(14,15,16),(17,18,19)]])) #3-D array\n",
    "print(np.array([[(1,2,3),(4,5,6),(7,8,9)],[(11,12,13),(14,15,16),(17,18,19)]]).ndim)\n",
    "print(np.array([[(1,2,3),(4,5,6),(7,8,9)],[(11,12,13),(14,15,16),(17,18,19)]]).shape)"
   ]
  },
  {
   "cell_type": "markdown",
   "id": "d6862b67",
   "metadata": {},
   "source": [
    "# Generating random numbers"
   ]
  },
  {
   "cell_type": "code",
   "execution_count": 22,
   "id": "8dccf7ec",
   "metadata": {},
   "outputs": [],
   "source": [
    "import numpy as np"
   ]
  },
  {
   "cell_type": "code",
   "execution_count": 23,
   "id": "34f3c51b",
   "metadata": {},
   "outputs": [
    {
     "name": "stdout",
     "output_type": "stream",
     "text": [
      "[[0.89028596 0.13738248 0.63764134 0.7413778  0.741899  ]\n",
      " [0.49040294 0.44380693 0.50273422 0.89780695 0.13148381]\n",
      " [0.64218544 0.6316437  0.74114761 0.29777751 0.9500957 ]\n",
      " [0.97961146 0.10484175 0.79168917 0.56791897 0.614586  ]]\n"
     ]
    }
   ],
   "source": [
    "print(np.random.rand(4,5)) #Will create 2x3 array of random floats between 0-1"
   ]
  },
  {
   "cell_type": "code",
   "execution_count": 24,
   "id": "a1403fb2",
   "metadata": {},
   "outputs": [
    {
     "name": "stdout",
     "output_type": "stream",
     "text": [
      "[0.11180864 0.6759856  0.60733531 0.47679422 0.23881637 0.97804352\n",
      " 0.80031912 0.94902727 0.9469329  0.10318622 0.38175651 0.38802447]\n"
     ]
    }
   ],
   "source": [
    "print(np.random.rand(12))"
   ]
  },
  {
   "cell_type": "code",
   "execution_count": 25,
   "id": "17955006",
   "metadata": {},
   "outputs": [
    {
     "name": "stdout",
     "output_type": "stream",
     "text": [
      "[[12.40213144  5.43200568  2.20439996  4.06166622  1.75124861]\n",
      " [ 0.73828103  5.34486856  0.14645632  2.00329485  4.79480737]\n",
      " [ 3.69154648  7.97530208  0.46626999 13.22727736 14.50623678]\n",
      " [14.5490869   1.41277915  9.8835511   5.75104756 12.5246191 ]\n",
      " [13.66940087  7.40209135 13.87814782  2.28959666  2.87856856]]\n"
     ]
    }
   ],
   "source": [
    "print(np.random.rand(5,5)*15) #Will create 6x7 array with random floats between 0-4"
   ]
  },
  {
   "cell_type": "code",
   "execution_count": 26,
   "id": "82860faf",
   "metadata": {},
   "outputs": [
    {
     "name": "stdout",
     "output_type": "stream",
     "text": [
      "4\n"
     ]
    }
   ],
   "source": [
    "print(np.random.choice([8,2,6,4,7,9])) #Pick any number from thr array randomly"
   ]
  },
  {
   "cell_type": "code",
   "execution_count": 27,
   "id": "5147744d",
   "metadata": {},
   "outputs": [
    {
     "name": "stdout",
     "output_type": "stream",
     "text": [
      "[[6 9 9]\n",
      " [4 8 6]\n",
      " [7 4 6]]\n"
     ]
    }
   ],
   "source": [
    "print(np.random.choice([8,2,6,4,7,9],[3,3]))"
   ]
  },
  {
   "cell_type": "code",
   "execution_count": 28,
   "id": "ba88da50",
   "metadata": {},
   "outputs": [
    {
     "name": "stdout",
     "output_type": "stream",
     "text": [
      "[ 8  8 10  4  2 13 11  5  3  8 13  2  8 12  6  3  7 14  4 12 11  5 11 12\n",
      " 14]\n"
     ]
    }
   ],
   "source": [
    "print(np.random.randint(15,size=(25)))"
   ]
  },
  {
   "cell_type": "code",
   "execution_count": 29,
   "id": "371d845d",
   "metadata": {},
   "outputs": [
    {
     "name": "stdout",
     "output_type": "stream",
     "text": [
      "[[ 6 19  1 12  0]\n",
      " [ 9  4 13  5  5]\n",
      " [16  3 17 16 15]\n",
      " [12 19 16  8 19]\n",
      " [11  4 16 16 13]]\n"
     ]
    }
   ],
   "source": [
    "print(np.random.randint(20,size=(5,5))) #Will create array with random ints between 0-4"
   ]
  },
  {
   "cell_type": "code",
   "execution_count": 30,
   "id": "d2ecfe18",
   "metadata": {},
   "outputs": [
    {
     "name": "stdout",
     "output_type": "stream",
     "text": [
      "[[20 18 21]\n",
      " [21 23 17]\n",
      " [17 16 20]\n",
      " [15 21 17]]\n"
     ]
    }
   ],
   "source": [
    "print(np.random.randint(15,25,size=(4,3)))"
   ]
  },
  {
   "cell_type": "markdown",
   "id": "1ad72309",
   "metadata": {},
   "source": [
    "# Inspecting Properties"
   ]
  },
  {
   "cell_type": "code",
   "execution_count": 1,
   "id": "34c7127e",
   "metadata": {},
   "outputs": [],
   "source": [
    "import numpy as np"
   ]
  },
  {
   "cell_type": "code",
   "execution_count": 2,
   "id": "c00ebc6f",
   "metadata": {},
   "outputs": [],
   "source": [
    "arr=np.array([[1,2,3],[4,5,6],[7,8,9],[10,11,12],[13,14,15]])"
   ]
  },
  {
   "cell_type": "code",
   "execution_count": 3,
   "id": "395ce9b1",
   "metadata": {},
   "outputs": [
    {
     "name": "stdout",
     "output_type": "stream",
     "text": [
      "[[ 1  2  3]\n",
      " [ 4  5  6]\n",
      " [ 7  8  9]\n",
      " [10 11 12]\n",
      " [13 14 15]]\n"
     ]
    }
   ],
   "source": [
    "print(arr)"
   ]
  },
  {
   "cell_type": "code",
   "execution_count": 4,
   "id": "1536246f",
   "metadata": {},
   "outputs": [
    {
     "name": "stdout",
     "output_type": "stream",
     "text": [
      "15\n"
     ]
    }
   ],
   "source": [
    "print(arr.size) #Will print the number of elements in the array"
   ]
  },
  {
   "cell_type": "code",
   "execution_count": 5,
   "id": "6dd57e0f",
   "metadata": {},
   "outputs": [
    {
     "name": "stdout",
     "output_type": "stream",
     "text": [
      "(5, 3)\n"
     ]
    }
   ],
   "source": [
    "print(arr.shape) #Will print the size (rxc) of array"
   ]
  },
  {
   "cell_type": "code",
   "execution_count": 6,
   "id": "8619cc29",
   "metadata": {},
   "outputs": [
    {
     "name": "stdout",
     "output_type": "stream",
     "text": [
      "int32\n"
     ]
    }
   ],
   "source": [
    "print(arr.dtype) #Will print the data type of array"
   ]
  },
  {
   "cell_type": "code",
   "execution_count": 8,
   "id": "97a57678",
   "metadata": {},
   "outputs": [
    {
     "name": "stdout",
     "output_type": "stream",
     "text": [
      "[[1, 2, 3], [4, 5, 6], [7, 8, 9], [10, 11, 12], [13, 14, 15]]\n"
     ]
    }
   ],
   "source": [
    "print(arr.tolist()) #Will convert array to list"
   ]
  },
  {
   "cell_type": "code",
   "execution_count": 7,
   "id": "d27a888f",
   "metadata": {},
   "outputs": [
    {
     "name": "stdout",
     "output_type": "stream",
     "text": [
      "float64\n"
     ]
    }
   ],
   "source": [
    "ar1=np.array([[1,2,3],[4,5,6],[7,8,9],[10,11,12],[13,14,15.5]]) #Here one of the elements in this array is float, So it will consider all elements in this array as float\n",
    "print(ar1.dtype)"
   ]
  },
  {
   "cell_type": "markdown",
   "id": "98de79eb",
   "metadata": {},
   "source": [
    "# Copying/Sorting/Reshaping"
   ]
  },
  {
   "cell_type": "code",
   "execution_count": 1,
   "id": "8d213942",
   "metadata": {},
   "outputs": [],
   "source": [
    "import numpy as np"
   ]
  },
  {
   "cell_type": "code",
   "execution_count": 2,
   "id": "c7d75176",
   "metadata": {},
   "outputs": [
    {
     "name": "stdout",
     "output_type": "stream",
     "text": [
      "[[ 9 12  8]\n",
      " [11  7  9]]\n"
     ]
    }
   ],
   "source": [
    "arr=np.array([[9,12,8],[11,7,9]])\n",
    "print(arr)"
   ]
  },
  {
   "cell_type": "code",
   "execution_count": 3,
   "id": "467e4ef3",
   "metadata": {},
   "outputs": [
    {
     "name": "stdout",
     "output_type": "stream",
     "text": [
      "Address of arr : 1749214631216\n"
     ]
    }
   ],
   "source": [
    "print(\"Address of arr :\",id(arr))"
   ]
  },
  {
   "cell_type": "code",
   "execution_count": 4,
   "id": "cbf564a8",
   "metadata": {},
   "outputs": [
    {
     "name": "stdout",
     "output_type": "stream",
     "text": [
      "Address of arr1 : 1749214631216\n"
     ]
    }
   ],
   "source": [
    "arr1=arr #Without changing the location\n",
    "print(\"Address of arr1 :\",id(arr1))"
   ]
  },
  {
   "cell_type": "code",
   "execution_count": 5,
   "id": "499ca30d",
   "metadata": {},
   "outputs": [
    {
     "name": "stdout",
     "output_type": "stream",
     "text": [
      "Address of arr2 : 1749210916464\n"
     ]
    }
   ],
   "source": [
    "arr2=np.copy(arr) #gives two different address locations\n",
    "print(\"Address of arr2 :\",id(arr2))"
   ]
  },
  {
   "cell_type": "code",
   "execution_count": 6,
   "id": "b8906703",
   "metadata": {},
   "outputs": [
    {
     "name": "stdout",
     "output_type": "stream",
     "text": [
      "[3 2 9 5 1]\n"
     ]
    }
   ],
   "source": [
    "a=np.array([3,2,9,5,1])\n",
    "print(a)"
   ]
  },
  {
   "cell_type": "code",
   "execution_count": 7,
   "id": "aee991d8",
   "metadata": {},
   "outputs": [
    {
     "name": "stdout",
     "output_type": "stream",
     "text": [
      "[1 2 3 5 9]\n"
     ]
    }
   ],
   "source": [
    "print(np.sort(a)) #Will sort array"
   ]
  },
  {
   "cell_type": "code",
   "execution_count": 8,
   "id": "b7bc65d6",
   "metadata": {},
   "outputs": [
    {
     "name": "stdout",
     "output_type": "stream",
     "text": [
      "['yash' '35' '8' '35.24' 'abc' '591']\n"
     ]
    }
   ],
   "source": [
    "b=np.array([\"yash\",35,8,35.24,\"abc\",591])\n",
    "print(b)"
   ]
  },
  {
   "cell_type": "code",
   "execution_count": 9,
   "id": "899e6083",
   "metadata": {},
   "outputs": [
    {
     "name": "stdout",
     "output_type": "stream",
     "text": [
      "['35' '35.24' '591' '8' 'abc' 'yash']\n"
     ]
    }
   ],
   "source": [
    "print(np.sort(b)) #Will consider the number which starts with smallest number\n",
    "#Here among all the numbers in dataset even though we have 8 in the list, 35 comes first since it starts with 3 which is the smallest number"
   ]
  },
  {
   "cell_type": "code",
   "execution_count": 10,
   "id": "18b0e9c6",
   "metadata": {},
   "outputs": [
    {
     "name": "stdout",
     "output_type": "stream",
     "text": [
      "[[ 9 12  8]\n",
      " [11  7  5]]\n"
     ]
    }
   ],
   "source": [
    "c=np.array([[9,12,8],[11,7,5]])\n",
    "print(c)"
   ]
  },
  {
   "cell_type": "code",
   "execution_count": 11,
   "id": "163dc8be",
   "metadata": {},
   "outputs": [
    {
     "name": "stdout",
     "output_type": "stream",
     "text": [
      "[[ 8  9 12]\n",
      " [ 5  7 11]]\n"
     ]
    }
   ],
   "source": [
    "print(np.sort(c)) #Will sort with respect to row"
   ]
  },
  {
   "cell_type": "code",
   "execution_count": 12,
   "id": "b6ff59a1",
   "metadata": {},
   "outputs": [
    {
     "name": "stdout",
     "output_type": "stream",
     "text": [
      "[[ 9 12  8]\n",
      " [11  7  5]\n",
      " [ 9  5  1]]\n"
     ]
    }
   ],
   "source": [
    "d=np.array([[9,12,8],[11,7,5],[9,5,1]])\n",
    "print(d)"
   ]
  },
  {
   "cell_type": "code",
   "execution_count": 13,
   "id": "66d0ae7e",
   "metadata": {},
   "outputs": [
    {
     "name": "stdout",
     "output_type": "stream",
     "text": [
      "[ 9 12  8 11  7  5  9  5  1]\n"
     ]
    }
   ],
   "source": [
    "print(d.flatten()) #Will flatten 2D array to 1D array"
   ]
  },
  {
   "cell_type": "code",
   "execution_count": 14,
   "id": "12001314",
   "metadata": {},
   "outputs": [
    {
     "name": "stdout",
     "output_type": "stream",
     "text": [
      "[ 1  2  3  4  5  6  7  8  9 11 12 13 14 15 16 17 18 19]\n"
     ]
    }
   ],
   "source": [
    "e=np.array([[(1,2,3),(4,5,6),(7,8,9)],[(11,12,13),(14,15,16),(17,18,19)]]) #3D array\n",
    "print(e.flatten()) #Will flatten 3D array to 1D array"
   ]
  },
  {
   "cell_type": "code",
   "execution_count": 15,
   "id": "8e12e15b",
   "metadata": {},
   "outputs": [
    {
     "name": "stdout",
     "output_type": "stream",
     "text": [
      "[[ 9 11  9]\n",
      " [12  7  5]\n",
      " [ 8  5  1]]\n"
     ]
    }
   ],
   "source": [
    "print(d.T) #Will Transpose the array, which means rows becomes columns and columns becomes rows"
   ]
  },
  {
   "cell_type": "code",
   "execution_count": 16,
   "id": "20d069fc",
   "metadata": {},
   "outputs": [
    {
     "name": "stdout",
     "output_type": "stream",
     "text": [
      "[[ 9 12  8]\n",
      " [11  7  5]\n",
      " [ 5  6  1]\n",
      " [ 1  9  3]]\n"
     ]
    }
   ],
   "source": [
    "f=np.array([[9,12,8],[11,7,5],[5,6,1],[1,9,3]])\n",
    "print(f)"
   ]
  },
  {
   "cell_type": "code",
   "execution_count": 17,
   "id": "345dc3da",
   "metadata": {},
   "outputs": [
    {
     "name": "stdout",
     "output_type": "stream",
     "text": [
      "[[ 9 12  8 11]\n",
      " [ 7  5  5  6]\n",
      " [ 1  1  9  3]]\n"
     ]
    }
   ],
   "source": [
    "print(f.reshape(3,4)) #Will reshape the array into 3x4 array without any change in data \n",
    "#Since shape of f dataset is 4x3 which contains 12 elements then, reshape is applied which should be equivalent to 12 elements i.e, (3x4),(6x2),(2x6),(12x1),(1x12)"
   ]
  },
  {
   "cell_type": "code",
   "execution_count": 18,
   "id": "43453902",
   "metadata": {},
   "outputs": [
    {
     "name": "stdout",
     "output_type": "stream",
     "text": [
      "[[ 9 12  8 11]\n",
      " [ 7  5  5  6]\n",
      " [ 1  1  9  3]\n",
      " [ 9 12  8 11]]\n"
     ]
    }
   ],
   "source": [
    "print(np.resize(f,(4,4))) #Will increase or decrease the size of the array"
   ]
  },
  {
   "cell_type": "code",
   "execution_count": 21,
   "id": "da1e5617",
   "metadata": {},
   "outputs": [
    {
     "name": "stdout",
     "output_type": "stream",
     "text": [
      "[[[[[1 2 3 4]]]]]\n",
      "number of dimensions : 5\n"
     ]
    }
   ],
   "source": [
    "g=np.array([1, 2, 3, 4], ndmin=5)\n",
    "print(g)\n",
    "print()\n",
    "print(\"number of dimensions :\", g.ndim)"
   ]
  },
  {
   "cell_type": "markdown",
   "id": "2ccebc6f",
   "metadata": {},
   "source": [
    "# Adding/Removing Data"
   ]
  },
  {
   "cell_type": "code",
   "execution_count": 1,
   "id": "ae9bfeb1",
   "metadata": {},
   "outputs": [],
   "source": [
    "import numpy as np"
   ]
  },
  {
   "cell_type": "code",
   "execution_count": 2,
   "id": "06aa8780",
   "metadata": {},
   "outputs": [
    {
     "name": "stdout",
     "output_type": "stream",
     "text": [
      "[[ 1  2  3  4]\n",
      " [ 5  6  7  8]\n",
      " [ 9 10 11 12]\n",
      " [13 14 15 16]]\n"
     ]
    }
   ],
   "source": [
    "ar=np.array([[1,2,3,4],[5,6,7,8],[9,10,11,12],[13,14,15,16]])\n",
    "print(ar)"
   ]
  },
  {
   "cell_type": "code",
   "execution_count": 3,
   "id": "634b5823",
   "metadata": {},
   "outputs": [
    {
     "name": "stdout",
     "output_type": "stream",
     "text": [
      "[ 1  2  3  4  5  6  7  8  9 10 11 12 13 14 15 16 20 30 40 50]\n"
     ]
    }
   ],
   "source": [
    "ar1=np.append(ar,[20,30,40,50]) #Will add the new list at last to the dataset\n",
    "print(ar1)"
   ]
  },
  {
   "cell_type": "code",
   "execution_count": 5,
   "id": "0778acb5",
   "metadata": {},
   "outputs": [
    {
     "name": "stdout",
     "output_type": "stream",
     "text": [
      "[[ 1  2  3  4]\n",
      " [ 5  6  7  8]\n",
      " [ 9 10 11 12]\n",
      " [13 14 15 16]\n",
      " [20 30 40 50]]\n"
     ]
    }
   ],
   "source": [
    "ar2=ar1.reshape(5,4)\n",
    "print(ar2)"
   ]
  },
  {
   "cell_type": "code",
   "execution_count": 6,
   "id": "89b9c0c9",
   "metadata": {},
   "outputs": [
    {
     "name": "stdout",
     "output_type": "stream",
     "text": [
      "[ 1  2  3  4  5  6 60 70 80 90  7  8  9 10 11 12 13 14 15 16]\n"
     ]
    }
   ],
   "source": [
    "ar3=np.insert(ar,6,(60,70,80,90))\n",
    "print(ar3)"
   ]
  },
  {
   "cell_type": "code",
   "execution_count": 7,
   "id": "67161aff",
   "metadata": {},
   "outputs": [
    {
     "name": "stdout",
     "output_type": "stream",
     "text": [
      "[[ 1  2  3  4]\n",
      " [ 5  6 60 70]\n",
      " [80 90  7  8]\n",
      " [ 9 10 11 12]\n",
      " [13 14 15 16]]\n"
     ]
    }
   ],
   "source": [
    "ar4=ar3.reshape(5,4)\n",
    "print(ar4)"
   ]
  },
  {
   "cell_type": "code",
   "execution_count": 8,
   "id": "60575a6a",
   "metadata": {},
   "outputs": [
    {
     "name": "stdout",
     "output_type": "stream",
     "text": [
      "[[ 1  2  3  4]\n",
      " [ 5  6  7  8]\n",
      " [13 14 15 16]]\n"
     ]
    }
   ],
   "source": [
    "ar5=np.delete(ar,2,axis=0)\n",
    "print(ar5)"
   ]
  },
  {
   "cell_type": "code",
   "execution_count": 9,
   "id": "d3d3b17d",
   "metadata": {},
   "outputs": [
    {
     "name": "stdout",
     "output_type": "stream",
     "text": [
      "[[ 1  2  4]\n",
      " [ 5  6  8]\n",
      " [ 9 10 12]\n",
      " [13 14 16]]\n"
     ]
    }
   ],
   "source": [
    "ar6=np.delete(ar,2,axis=1)\n",
    "print(ar6)"
   ]
  },
  {
   "cell_type": "markdown",
   "id": "55674581",
   "metadata": {},
   "source": [
    "# Combining/Splitting"
   ]
  },
  {
   "cell_type": "code",
   "execution_count": 1,
   "id": "a6282655",
   "metadata": {},
   "outputs": [],
   "source": [
    "import numpy as np"
   ]
  },
  {
   "cell_type": "code",
   "execution_count": 2,
   "id": "fa42db14",
   "metadata": {},
   "outputs": [
    {
     "name": "stdout",
     "output_type": "stream",
     "text": [
      "[[10 11 12 13 14]\n",
      " [ 3  1  2  3  4]\n",
      " [21 20 30 40 50]\n",
      " [56 39 67 45 57]]\n",
      "[[ 4  5  6  7  8]\n",
      " [21 22 23 24 25]\n",
      " [31 32 33 34 35]]\n",
      "[[ 4  5  6  7]\n",
      " [21 22 23 24]\n",
      " [31 32 33 34]\n",
      " [40 41 42 43]]\n"
     ]
    }
   ],
   "source": [
    "arr=np.array([[10,11,12,13,14],[3,1,2,3,4],[21,20,30,40,50],[56,39,67,45,57]])\n",
    "arr1=np.array([[4,5,6,7,8],[21,22,23,24,25],[31,32,33,34,35]])\n",
    "arr2=np.array([[4,5,6,7],[21,22,23,24],[31,32,33,34],[40,41,42,43]])\n",
    "print(arr)\n",
    "print(arr1)\n",
    "print(arr2)"
   ]
  },
  {
   "cell_type": "code",
   "execution_count": 3,
   "id": "8731141e",
   "metadata": {},
   "outputs": [
    {
     "name": "stdout",
     "output_type": "stream",
     "text": [
      "[[10 11 12 13 14]\n",
      " [ 3  1  2  3  4]\n",
      " [21 20 30 40 50]\n",
      " [56 39 67 45 57]\n",
      " [ 4  5  6  7  8]\n",
      " [21 22 23 24 25]\n",
      " [31 32 33 34 35]]\n"
     ]
    }
   ],
   "source": [
    "print(np.concatenate((arr,arr1),axis=0)) #Will add rows to the arr"
   ]
  },
  {
   "cell_type": "code",
   "execution_count": 4,
   "id": "768b55fe",
   "metadata": {},
   "outputs": [
    {
     "ename": "ValueError",
     "evalue": "all the input array dimensions for the concatenation axis must match exactly, but along dimension 0, the array at index 0 has size 4 and the array at index 1 has size 3",
     "output_type": "error",
     "traceback": [
      "\u001b[1;31m---------------------------------------------------------------------------\u001b[0m",
      "\u001b[1;31mValueError\u001b[0m                                Traceback (most recent call last)",
      "Cell \u001b[1;32mIn[4], line 1\u001b[0m\n\u001b[1;32m----> 1\u001b[0m \u001b[38;5;28mprint\u001b[39m(\u001b[43mnp\u001b[49m\u001b[38;5;241;43m.\u001b[39;49m\u001b[43mconcatenate\u001b[49m\u001b[43m(\u001b[49m\u001b[43m(\u001b[49m\u001b[43marr\u001b[49m\u001b[43m,\u001b[49m\u001b[43marr1\u001b[49m\u001b[43m)\u001b[49m\u001b[43m,\u001b[49m\u001b[43maxis\u001b[49m\u001b[38;5;241;43m=\u001b[39;49m\u001b[38;5;241;43m1\u001b[39;49m\u001b[43m)\u001b[49m)\n",
      "File \u001b[1;32m<__array_function__ internals>:180\u001b[0m, in \u001b[0;36mconcatenate\u001b[1;34m(*args, **kwargs)\u001b[0m\n",
      "\u001b[1;31mValueError\u001b[0m: all the input array dimensions for the concatenation axis must match exactly, but along dimension 0, the array at index 0 has size 4 and the array at index 1 has size 3"
     ]
    }
   ],
   "source": [
    "print(np.concatenate((arr,arr1),axis=1)) #Will add columns to arr"
   ]
  },
  {
   "cell_type": "markdown",
   "id": "a60d393e",
   "metadata": {},
   "source": [
    "Here we are getting error because With respect to columns, rows should be same for both arrays and with respect to rows, columns should be same for both arrays."
   ]
  },
  {
   "cell_type": "code",
   "execution_count": 5,
   "id": "4ce94f80",
   "metadata": {},
   "outputs": [
    {
     "name": "stdout",
     "output_type": "stream",
     "text": [
      "[array([[4, 5, 6, 7]]), array([[21, 22, 23, 24]]), array([[31, 32, 33, 34]]), array([[40, 41, 42, 43]])]\n"
     ]
    }
   ],
   "source": [
    "print(np.split(arr2,4)) #Will split array to sub array based on rows"
   ]
  },
  {
   "cell_type": "code",
   "execution_count": 6,
   "id": "3d2d2c68",
   "metadata": {},
   "outputs": [
    {
     "name": "stdout",
     "output_type": "stream",
     "text": [
      "[[ 4  5  6  7  8  2]\n",
      " [21 22 23 24 21 25]\n",
      " [31 32 33 21 34 35]\n",
      " [40 41 33 42 43 44]]\n"
     ]
    }
   ],
   "source": [
    "arr3=np.array([[4,5,6,7,8,2],[21,22,23,24,21,25],[31,32,33,21,34,35],[40,41,33,42,43,44]])\n",
    "print(arr3)"
   ]
  },
  {
   "cell_type": "code",
   "execution_count": 7,
   "id": "031afc7f",
   "metadata": {},
   "outputs": [
    {
     "name": "stdout",
     "output_type": "stream",
     "text": [
      "[array([[ 4,  5],\n",
      "       [21, 22],\n",
      "       [31, 32],\n",
      "       [40, 41]]), array([[ 6,  7],\n",
      "       [23, 24],\n",
      "       [33, 21],\n",
      "       [33, 42]]), array([[ 8,  2],\n",
      "       [21, 25],\n",
      "       [34, 35],\n",
      "       [43, 44]])]\n"
     ]
    }
   ],
   "source": [
    "print(np.hsplit(arr3,3)) #Will array to sub array horizontally"
   ]
  },
  {
   "cell_type": "markdown",
   "id": "6e8a297f",
   "metadata": {},
   "source": [
    "# Indexing/slicing/subsetting"
   ]
  },
  {
   "cell_type": "code",
   "execution_count": 1,
   "id": "0312ef98",
   "metadata": {},
   "outputs": [],
   "source": [
    "import numpy as np"
   ]
  },
  {
   "cell_type": "code",
   "execution_count": 2,
   "id": "870689f9",
   "metadata": {},
   "outputs": [
    {
     "name": "stdout",
     "output_type": "stream",
     "text": [
      "[10 11  4 13 14  2]\n",
      "[[12 19  2  3 14 18]\n",
      " [29  1 23  4 25 26]]\n"
     ]
    }
   ],
   "source": [
    "arr=np.array([10,11,4,13,14,2])\n",
    "arr1=np.array([[12,19,2,3,14,18],[29,1,23,4,25,26]])\n",
    "print(arr)\n",
    "print(arr1)"
   ]
  },
  {
   "cell_type": "code",
   "execution_count": 3,
   "id": "56cdf701",
   "metadata": {},
   "outputs": [
    {
     "name": "stdout",
     "output_type": "stream",
     "text": [
      "14\n"
     ]
    }
   ],
   "source": [
    "print(arr[4]) #Will give the element at index 4"
   ]
  },
  {
   "cell_type": "code",
   "execution_count": 4,
   "id": "e991a60e",
   "metadata": {},
   "outputs": [
    {
     "name": "stdout",
     "output_type": "stream",
     "text": [
      "4\n"
     ]
    }
   ],
   "source": [
    "print(arr1[1,3]) #Will give the elements of 2D array"
   ]
  },
  {
   "cell_type": "code",
   "execution_count": 5,
   "id": "b853035b",
   "metadata": {},
   "outputs": [
    {
     "name": "stdout",
     "output_type": "stream",
     "text": [
      "[10  9  4 13 14  2]\n"
     ]
    }
   ],
   "source": [
    "arr[1]=9 #Will assign array element on index 1 the value 4\n",
    "print(arr)"
   ]
  },
  {
   "cell_type": "code",
   "execution_count": 6,
   "id": "134c5657",
   "metadata": {},
   "outputs": [
    {
     "name": "stdout",
     "output_type": "stream",
     "text": [
      "[[12 19  2  3 14 18]\n",
      " [29  1 23  4 10 26]]\n"
     ]
    }
   ],
   "source": [
    "arr1[1,4]=10 #Assigns array element on index [1][3] the value 10\n",
    "print(arr1)"
   ]
  },
  {
   "cell_type": "code",
   "execution_count": 7,
   "id": "23cf4189",
   "metadata": {},
   "outputs": [
    {
     "name": "stdout",
     "output_type": "stream",
     "text": [
      "[10  9  4]\n"
     ]
    }
   ],
   "source": [
    "print(arr[:3]) #Will give the elements in array with positions of 0,1,2"
   ]
  },
  {
   "cell_type": "code",
   "execution_count": 8,
   "id": "51a9058f",
   "metadata": {},
   "outputs": [
    {
     "name": "stdout",
     "output_type": "stream",
     "text": [
      "[[12]\n",
      " [29]]\n"
     ]
    }
   ],
   "source": [
    "print(arr1[0:2,0:1]) #Will give the elements on rows 0,1,2 at column 4"
   ]
  },
  {
   "cell_type": "code",
   "execution_count": 9,
   "id": "9168c4ae",
   "metadata": {},
   "outputs": [
    {
     "name": "stdout",
     "output_type": "stream",
     "text": [
      "[[12 19  2  3 14 18]]\n"
     ]
    }
   ],
   "source": [
    "print(arr1[:1]) #Will return rows in 2D array"
   ]
  },
  {
   "cell_type": "code",
   "execution_count": 10,
   "id": "9a95fb0f",
   "metadata": {},
   "outputs": [
    {
     "name": "stdout",
     "output_type": "stream",
     "text": [
      "[[12 19]\n",
      " [29  1]]\n"
     ]
    }
   ],
   "source": [
    "print(arr1[:,:2]) #Will return the elements at index 1 on all rows"
   ]
  },
  {
   "cell_type": "code",
   "execution_count": 11,
   "id": "005b881f",
   "metadata": {},
   "outputs": [
    {
     "name": "stdout",
     "output_type": "stream",
     "text": [
      "[False False  True False False  True]\n"
     ]
    }
   ],
   "source": [
    "print(arr<5) #Will return an array with boolean values, returns True whereever the number in arr is lessthan 5 else returns False"
   ]
  },
  {
   "cell_type": "code",
   "execution_count": 12,
   "id": "072da140",
   "metadata": {},
   "outputs": [
    {
     "name": "stdout",
     "output_type": "stream",
     "text": [
      "[False False  True False False False]\n"
     ]
    }
   ],
   "source": [
    "print((arr>3)&(arr<5)) #Will return an array with boolean values"
   ]
  },
  {
   "cell_type": "code",
   "execution_count": 13,
   "id": "0c98480a",
   "metadata": {},
   "outputs": [
    {
     "name": "stdout",
     "output_type": "stream",
     "text": [
      "[[False False  True  True False False]\n",
      " [False  True False  True False False]]\n"
     ]
    }
   ],
   "source": [
    "print(arr1<5)"
   ]
  },
  {
   "cell_type": "markdown",
   "id": "aea23589",
   "metadata": {},
   "source": [
    "# Scalar Math"
   ]
  },
  {
   "cell_type": "code",
   "execution_count": 1,
   "id": "17b60871",
   "metadata": {},
   "outputs": [],
   "source": [
    "import numpy as np"
   ]
  },
  {
   "cell_type": "code",
   "execution_count": 2,
   "id": "c2725aa9",
   "metadata": {},
   "outputs": [
    {
     "name": "stdout",
     "output_type": "stream",
     "text": [
      "[10 11 12 13 14 15]\n",
      "[[10 11 12 13 14 15]\n",
      " [21 22 23 24 25 26]]\n"
     ]
    }
   ],
   "source": [
    "arr=np.array([10,11,12,13,14,15])\n",
    "arr1=np.array([[10,11,12,13,14,15],[21,22,23,24,25,26]])\n",
    "print(arr)\n",
    "print(arr1)"
   ]
  },
  {
   "cell_type": "code",
   "execution_count": 3,
   "id": "82be43b8",
   "metadata": {},
   "outputs": [
    {
     "name": "stdout",
     "output_type": "stream",
     "text": [
      "Scalar vector addition :\n",
      " [12 13 14 15 16 17]\n"
     ]
    }
   ],
   "source": [
    "print(\"Scalar vector addition :\\n\",np.add(arr,2)) #Will add 2 to each array element"
   ]
  },
  {
   "cell_type": "code",
   "execution_count": 4,
   "id": "740c0232",
   "metadata": {},
   "outputs": [
    {
     "name": "stdout",
     "output_type": "stream",
     "text": [
      "[[12 13 14 15 16 17]\n",
      " [23 24 25 26 27 28]]\n"
     ]
    }
   ],
   "source": [
    "print(np.add(arr1,2)) #Will add 2 to each array element"
   ]
  },
  {
   "cell_type": "code",
   "execution_count": 5,
   "id": "bb671957",
   "metadata": {},
   "outputs": [
    {
     "name": "stdout",
     "output_type": "stream",
     "text": [
      "[[ 9 10 11 12 13 14]\n",
      " [20 21 22 23 24 25]]\n"
     ]
    }
   ],
   "source": [
    "print(np.subtract(arr1,1)) #Will subtract 1 from each and every array element"
   ]
  },
  {
   "cell_type": "code",
   "execution_count": 6,
   "id": "993747b0",
   "metadata": {},
   "outputs": [
    {
     "name": "stdout",
     "output_type": "stream",
     "text": [
      "[[20 22 24 26 28 30]\n",
      " [42 44 46 48 50 52]]\n"
     ]
    }
   ],
   "source": [
    "print(np.multiply(arr1,2)) #Will multiply each and every array element with 2"
   ]
  },
  {
   "cell_type": "code",
   "execution_count": 7,
   "id": "fc8e817f",
   "metadata": {},
   "outputs": [
    {
     "name": "stdout",
     "output_type": "stream",
     "text": [
      "[[ 5.   5.5  6.   6.5  7.   7.5]\n",
      " [10.5 11.  11.5 12.  12.5 13. ]]\n"
     ]
    }
   ],
   "source": [
    "print(np.divide(arr1,2)) #Will divide each and every array element with 2"
   ]
  },
  {
   "cell_type": "code",
   "execution_count": 8,
   "id": "bee251ce",
   "metadata": {},
   "outputs": [
    {
     "name": "stdout",
     "output_type": "stream",
     "text": [
      "[100 121 144 169 196 225]\n"
     ]
    }
   ],
   "source": [
    "print(np.power(arr,2)) #Will"
   ]
  },
  {
   "cell_type": "markdown",
   "id": "9c5bf067",
   "metadata": {},
   "source": [
    "# Vector Math"
   ]
  },
  {
   "cell_type": "code",
   "execution_count": 1,
   "id": "8b233416",
   "metadata": {},
   "outputs": [],
   "source": [
    "import numpy as np"
   ]
  },
  {
   "cell_type": "code",
   "execution_count": 2,
   "id": "3aeb164f",
   "metadata": {},
   "outputs": [
    {
     "name": "stdout",
     "output_type": "stream",
     "text": [
      "[[1.1 2.8 3.6 4. ]\n",
      " [5.2 6.5 7.8 8.2]]\n",
      "[[  9   2  11  12]\n",
      " [ 13  14  15 -16]]\n",
      "[[ 9  2 11 12]\n",
      " [13 14 15 16]]\n"
     ]
    }
   ],
   "source": [
    "arr=np.array([[1.1,2.8,3.6,4],[5.2,6.5,7.8,8.2]])\n",
    "arr1=np.array([[9,2,11,12],[13,14,15,-16]])\n",
    "arr2=np.array([[9,2,11,12],[13,14,15,16]])\n",
    "print(arr)\n",
    "print(arr1)\n",
    "print(arr2)"
   ]
  },
  {
   "cell_type": "code",
   "execution_count": 3,
   "id": "e9b53279",
   "metadata": {},
   "outputs": [
    {
     "name": "stdout",
     "output_type": "stream",
     "text": [
      "False\n"
     ]
    }
   ],
   "source": [
    "print(np.array_equal(arr2,arr1)) #Will return True if each and every element in arr2 matches with arr1"
   ]
  },
  {
   "cell_type": "code",
   "execution_count": 4,
   "id": "683a2bad",
   "metadata": {},
   "outputs": [
    {
     "name": "stdout",
     "output_type": "stream",
     "text": [
      "5.0\n"
     ]
    }
   ],
   "source": [
    "print(np.sqrt(25)) #Square root of 25"
   ]
  },
  {
   "cell_type": "code",
   "execution_count": 5,
   "id": "d83f0a43",
   "metadata": {},
   "outputs": [
    {
     "name": "stdout",
     "output_type": "stream",
     "text": [
      "[[3.         1.41421356 3.31662479 3.46410162]\n",
      " [3.60555128 3.74165739 3.87298335 4.        ]]\n"
     ]
    }
   ],
   "source": [
    "print(np.sqrt(arr2)) #Will give the square root for each and every element in the array"
   ]
  },
  {
   "cell_type": "code",
   "execution_count": 6,
   "id": "28db120d",
   "metadata": {},
   "outputs": [
    {
     "name": "stdout",
     "output_type": "stream",
     "text": [
      "[[-0.91113026 -0.41614684  0.0044257   0.84385396]\n",
      " [ 0.90744678  0.13673722 -0.75968791 -0.95765948]]\n"
     ]
    }
   ],
   "source": [
    "print(np.cos(arr2)) #Will give cos of each element in the array in radians"
   ]
  },
  {
   "cell_type": "code",
   "execution_count": 22,
   "id": "2a63cf39",
   "metadata": {},
   "outputs": [
    {
     "name": "stdout",
     "output_type": "stream",
     "text": [
      "0.8939966636005579\n",
      "0.9974949866040544\n"
     ]
    }
   ],
   "source": [
    "print(np.sin(90)) #In radians\n",
    "print(np.sin(1.5)) #In degrees (1 degree=0.0175 radian)"
   ]
  },
  {
   "cell_type": "code",
   "execution_count": 8,
   "id": "5cda085a",
   "metadata": {},
   "outputs": [
    {
     "name": "stdout",
     "output_type": "stream",
     "text": [
      "[[2.19722458 0.69314718 2.39789527 2.48490665]\n",
      " [2.56494936 2.63905733 2.7080502  2.77258872]]\n"
     ]
    }
   ],
   "source": [
    "print(np.log(arr2)) #Will give natural log of each element"
   ]
  },
  {
   "cell_type": "code",
   "execution_count": 9,
   "id": "e41cd015",
   "metadata": {},
   "outputs": [
    {
     "name": "stdout",
     "output_type": "stream",
     "text": [
      "[[ 9  2 11 12]\n",
      " [13 14 15 16]]\n"
     ]
    }
   ],
   "source": [
    "print(np.abs(arr1)) #Will give absolute value of each element in the array"
   ]
  },
  {
   "cell_type": "code",
   "execution_count": 10,
   "id": "aef0c043",
   "metadata": {},
   "outputs": [
    {
     "name": "stdout",
     "output_type": "stream",
     "text": [
      "[[2. 3. 4. 4.]\n",
      " [6. 7. 8. 9.]]\n"
     ]
    }
   ],
   "source": [
    "print(np.ceil(arr)) #Will rounds up to the nearest value (Highest)"
   ]
  },
  {
   "cell_type": "code",
   "execution_count": 11,
   "id": "255f870d",
   "metadata": {},
   "outputs": [
    {
     "name": "stdout",
     "output_type": "stream",
     "text": [
      "[[1. 2. 3. 4.]\n",
      " [5. 6. 7. 8.]]\n"
     ]
    }
   ],
   "source": [
    "print(np.floor(arr)) #Will rounds up to the nearest value (Lowest)"
   ]
  },
  {
   "cell_type": "code",
   "execution_count": 12,
   "id": "87f92eb2",
   "metadata": {},
   "outputs": [
    {
     "name": "stdout",
     "output_type": "stream",
     "text": [
      "[[1. 3. 4. 4.]\n",
      " [5. 6. 8. 8.]]\n"
     ]
    }
   ],
   "source": [
    "print(np.round(arr)) #Will rounds up to the nearest value "
   ]
  },
  {
   "cell_type": "code",
   "execution_count": 13,
   "id": "bcb6e011",
   "metadata": {},
   "outputs": [
    {
     "name": "stdout",
     "output_type": "stream",
     "text": [
      "[[1 2 3 4]\n",
      " [5 6 7 8]]\n"
     ]
    }
   ],
   "source": [
    "arr3=np.array([[1,2,3,4],[5,6,7,8]])\n",
    "print(arr3)"
   ]
  },
  {
   "cell_type": "code",
   "execution_count": 14,
   "id": "d39f4591",
   "metadata": {},
   "outputs": [
    {
     "name": "stdout",
     "output_type": "stream",
     "text": [
      "[2.5 6.5]\n"
     ]
    }
   ],
   "source": [
    "print(np.mean(arr3,axis=1)) #Will give mean for the specified axis"
   ]
  },
  {
   "cell_type": "code",
   "execution_count": 15,
   "id": "78478dbe",
   "metadata": {},
   "outputs": [
    {
     "name": "stdout",
     "output_type": "stream",
     "text": [
      "36\n"
     ]
    }
   ],
   "source": [
    "print(arr3.sum()) #Will sum up th elements the in array"
   ]
  },
  {
   "cell_type": "code",
   "execution_count": 16,
   "id": "f05456f6",
   "metadata": {},
   "outputs": [
    {
     "name": "stdout",
     "output_type": "stream",
     "text": [
      "1\n"
     ]
    }
   ],
   "source": [
    "print(arr3.min()) #Will give the minimun value in array"
   ]
  },
  {
   "cell_type": "code",
   "execution_count": 17,
   "id": "a297a212",
   "metadata": {},
   "outputs": [
    {
     "name": "stdout",
     "output_type": "stream",
     "text": [
      "[5 6 7 8]\n"
     ]
    }
   ],
   "source": [
    "print(arr3.max(axis=0)) #Will give the maximum value for the specified axis"
   ]
  },
  {
   "cell_type": "code",
   "execution_count": 18,
   "id": "f40461bb",
   "metadata": {},
   "outputs": [
    {
     "name": "stdout",
     "output_type": "stream",
     "text": [
      "[[3 4]\n",
      " [5 6]]\n"
     ]
    }
   ],
   "source": [
    "arr4=np.array([[3,4],[5,6]])\n",
    "print(arr4)"
   ]
  },
  {
   "cell_type": "code",
   "execution_count": 19,
   "id": "08de28f1",
   "metadata": {},
   "outputs": [
    {
     "name": "stdout",
     "output_type": "stream",
     "text": [
      "5.412499999999999\n"
     ]
    }
   ],
   "source": [
    "print(np.var(arr)) #Will return the variance of the array"
   ]
  },
  {
   "cell_type": "code",
   "execution_count": 20,
   "id": "ed796143",
   "metadata": {},
   "outputs": [
    {
     "name": "stdout",
     "output_type": "stream",
     "text": [
      "[4.2025 3.4225 4.41   4.41  ]\n"
     ]
    }
   ],
   "source": [
    "print(np.var(arr,axis=0)) #Will return variance for the specified axis"
   ]
  },
  {
   "cell_type": "code",
   "execution_count": 21,
   "id": "2b855538",
   "metadata": {},
   "outputs": [
    {
     "name": "stdout",
     "output_type": "stream",
     "text": [
      "[2.05 1.85 2.1  2.1 ]\n"
     ]
    }
   ],
   "source": [
    "print(np.std(arr,axis=0)) #Will return the standard deviation for the specified axis"
   ]
  },
  {
   "cell_type": "code",
   "execution_count": null,
   "id": "820dabd0",
   "metadata": {},
   "outputs": [],
   "source": []
  }
 ],
 "metadata": {
  "kernelspec": {
   "display_name": "Python 3 (ipykernel)",
   "language": "python",
   "name": "python3"
  },
  "language_info": {
   "codemirror_mode": {
    "name": "ipython",
    "version": 3
   },
   "file_extension": ".py",
   "mimetype": "text/x-python",
   "name": "python",
   "nbconvert_exporter": "python",
   "pygments_lexer": "ipython3",
   "version": "3.10.9"
  }
 },
 "nbformat": 4,
 "nbformat_minor": 5
}
